{
 "cells": [
  {
   "cell_type": "code",
   "execution_count": 1,
   "id": "0082a90a",
   "metadata": {},
   "outputs": [],
   "source": [
    "import pandas as pd\n",
    "data = pd.read_csv(\"Students.csv\")"
   ]
  },
  {
   "cell_type": "code",
   "execution_count": 2,
   "id": "6384076e",
   "metadata": {},
   "outputs": [
    {
     "name": "stdout",
     "output_type": "stream",
     "text": [
      "      JEEPRE   JEEMAINS  STATUS\n",
      "0  34.623660  78.024693       0\n",
      "1  30.286711  43.894998       0\n"
     ]
    }
   ],
   "source": [
    "print(data.head(2))"
   ]
  },
  {
   "cell_type": "code",
   "execution_count": 3,
   "id": "12a28e09",
   "metadata": {},
   "outputs": [
    {
     "name": "stdout",
     "output_type": "stream",
     "text": [
      "      JEEPRE   JEEMAINS\n",
      "0  34.623660  78.024693\n",
      "1  30.286711  43.894998\n"
     ]
    }
   ],
   "source": [
    "x = data[[\"JEEPRE\",\"JEEMAINS\"]]\n",
    "print(x.head(2))"
   ]
  },
  {
   "cell_type": "code",
   "execution_count": 4,
   "id": "eb999f41",
   "metadata": {},
   "outputs": [
    {
     "name": "stdout",
     "output_type": "stream",
     "text": [
      "0    0\n",
      "1    0\n",
      "Name: STATUS, dtype: int64\n"
     ]
    }
   ],
   "source": [
    "y = data[\"STATUS\"]\n",
    "print(y.head(2))"
   ]
  },
  {
   "cell_type": "code",
   "execution_count": 5,
   "id": "8243a0e6",
   "metadata": {},
   "outputs": [],
   "source": [
    "from sklearn.model_selection import train_test_split\n",
    "from sklearn.linear_model import LogisticRegression\n",
    "from sklearn.metrics import confusion_matrix, accuracy_score"
   ]
  },
  {
   "cell_type": "code",
   "execution_count": 6,
   "id": "b9e8a839",
   "metadata": {},
   "outputs": [],
   "source": [
    "x_train,x_test,y_train,y_test = train_test_split(x,y,test_size=0.2,random_state=1234,stratify = y)"
   ]
  },
  {
   "cell_type": "code",
   "execution_count": 7,
   "id": "03de2878",
   "metadata": {},
   "outputs": [],
   "source": [
    "###### Training of the model\n",
    "model = LogisticRegression()"
   ]
  },
  {
   "cell_type": "code",
   "execution_count": 8,
   "id": "dcb993b2",
   "metadata": {},
   "outputs": [],
   "source": [
    "train = model.fit(x_train,y_train)"
   ]
  },
  {
   "cell_type": "code",
   "execution_count": 9,
   "id": "778e38f6",
   "metadata": {},
   "outputs": [],
   "source": [
    "pred = train.predict(x_test)"
   ]
  },
  {
   "cell_type": "code",
   "execution_count": 10,
   "id": "95c40667",
   "metadata": {},
   "outputs": [],
   "source": [
    "#### checking the accuracy score"
   ]
  },
  {
   "cell_type": "code",
   "execution_count": 11,
   "id": "3bdaea9e",
   "metadata": {},
   "outputs": [],
   "source": [
    "result = accuracy_score(y_test,pred)"
   ]
  },
  {
   "cell_type": "code",
   "execution_count": 12,
   "id": "0c77a90f",
   "metadata": {},
   "outputs": [
    {
     "data": {
      "text/plain": [
       "0.95"
      ]
     },
     "execution_count": 12,
     "metadata": {},
     "output_type": "execute_result"
    }
   ],
   "source": [
    "result"
   ]
  },
  {
   "cell_type": "code",
   "execution_count": 13,
   "id": "65d3255b",
   "metadata": {},
   "outputs": [
    {
     "data": {
      "text/plain": [
       "array([0, 1], dtype=int64)"
      ]
     },
     "execution_count": 13,
     "metadata": {},
     "output_type": "execute_result"
    }
   ],
   "source": [
    "train.classes_"
   ]
  },
  {
   "cell_type": "code",
   "execution_count": 14,
   "id": "c77398b8",
   "metadata": {},
   "outputs": [
    {
     "data": {
      "text/html": [
       "<div>\n",
       "<style scoped>\n",
       "    .dataframe tbody tr th:only-of-type {\n",
       "        vertical-align: middle;\n",
       "    }\n",
       "\n",
       "    .dataframe tbody tr th {\n",
       "        vertical-align: top;\n",
       "    }\n",
       "\n",
       "    .dataframe thead th {\n",
       "        text-align: right;\n",
       "    }\n",
       "</style>\n",
       "<table border=\"1\" class=\"dataframe\">\n",
       "  <thead>\n",
       "    <tr style=\"text-align: right;\">\n",
       "      <th></th>\n",
       "      <th>JEEPRE</th>\n",
       "      <th>JEEMAINS</th>\n",
       "    </tr>\n",
       "  </thead>\n",
       "  <tbody>\n",
       "    <tr>\n",
       "      <th>77</th>\n",
       "      <td>50.458160</td>\n",
       "      <td>75.809860</td>\n",
       "    </tr>\n",
       "    <tr>\n",
       "      <th>60</th>\n",
       "      <td>75.395611</td>\n",
       "      <td>85.759937</td>\n",
       "    </tr>\n",
       "    <tr>\n",
       "      <th>24</th>\n",
       "      <td>77.924091</td>\n",
       "      <td>68.972360</td>\n",
       "    </tr>\n",
       "    <tr>\n",
       "      <th>63</th>\n",
       "      <td>30.058822</td>\n",
       "      <td>49.592974</td>\n",
       "    </tr>\n",
       "    <tr>\n",
       "      <th>52</th>\n",
       "      <td>90.546714</td>\n",
       "      <td>43.390602</td>\n",
       "    </tr>\n",
       "    <tr>\n",
       "      <th>83</th>\n",
       "      <td>57.238706</td>\n",
       "      <td>59.514282</td>\n",
       "    </tr>\n",
       "    <tr>\n",
       "      <th>53</th>\n",
       "      <td>34.524514</td>\n",
       "      <td>60.396342</td>\n",
       "    </tr>\n",
       "    <tr>\n",
       "      <th>47</th>\n",
       "      <td>97.771599</td>\n",
       "      <td>86.727822</td>\n",
       "    </tr>\n",
       "    <tr>\n",
       "      <th>34</th>\n",
       "      <td>40.236894</td>\n",
       "      <td>71.167748</td>\n",
       "    </tr>\n",
       "    <tr>\n",
       "      <th>55</th>\n",
       "      <td>49.586677</td>\n",
       "      <td>59.808951</td>\n",
       "    </tr>\n",
       "    <tr>\n",
       "      <th>31</th>\n",
       "      <td>85.404519</td>\n",
       "      <td>57.051984</td>\n",
       "    </tr>\n",
       "    <tr>\n",
       "      <th>21</th>\n",
       "      <td>89.676776</td>\n",
       "      <td>65.799366</td>\n",
       "    </tr>\n",
       "    <tr>\n",
       "      <th>89</th>\n",
       "      <td>52.348004</td>\n",
       "      <td>60.769505</td>\n",
       "    </tr>\n",
       "    <tr>\n",
       "      <th>80</th>\n",
       "      <td>88.913896</td>\n",
       "      <td>69.803789</td>\n",
       "    </tr>\n",
       "    <tr>\n",
       "      <th>90</th>\n",
       "      <td>94.094331</td>\n",
       "      <td>77.159105</td>\n",
       "    </tr>\n",
       "    <tr>\n",
       "      <th>45</th>\n",
       "      <td>62.222676</td>\n",
       "      <td>52.060992</td>\n",
       "    </tr>\n",
       "    <tr>\n",
       "      <th>28</th>\n",
       "      <td>61.830206</td>\n",
       "      <td>50.256108</td>\n",
       "    </tr>\n",
       "    <tr>\n",
       "      <th>25</th>\n",
       "      <td>62.271014</td>\n",
       "      <td>69.954458</td>\n",
       "    </tr>\n",
       "    <tr>\n",
       "      <th>13</th>\n",
       "      <td>69.364589</td>\n",
       "      <td>97.718692</td>\n",
       "    </tr>\n",
       "    <tr>\n",
       "      <th>39</th>\n",
       "      <td>34.183640</td>\n",
       "      <td>75.237720</td>\n",
       "    </tr>\n",
       "  </tbody>\n",
       "</table>\n",
       "</div>"
      ],
      "text/plain": [
       "       JEEPRE   JEEMAINS\n",
       "77  50.458160  75.809860\n",
       "60  75.395611  85.759937\n",
       "24  77.924091  68.972360\n",
       "63  30.058822  49.592974\n",
       "52  90.546714  43.390602\n",
       "83  57.238706  59.514282\n",
       "53  34.524514  60.396342\n",
       "47  97.771599  86.727822\n",
       "34  40.236894  71.167748\n",
       "55  49.586677  59.808951\n",
       "31  85.404519  57.051984\n",
       "21  89.676776  65.799366\n",
       "89  52.348004  60.769505\n",
       "80  88.913896  69.803789\n",
       "90  94.094331  77.159105\n",
       "45  62.222676  52.060992\n",
       "28  61.830206  50.256108\n",
       "25  62.271014  69.954458\n",
       "13  69.364589  97.718692\n",
       "39  34.183640  75.237720"
      ]
     },
     "execution_count": 14,
     "metadata": {},
     "output_type": "execute_result"
    }
   ],
   "source": [
    "x_test"
   ]
  },
  {
   "cell_type": "code",
   "execution_count": 15,
   "id": "0bf3b1a9",
   "metadata": {},
   "outputs": [
    {
     "data": {
      "text/plain": [
       "array([[4.25549789e-01, 5.74450211e-01],\n",
       "       [8.00648890e-04, 9.99199351e-01],\n",
       "       [1.18482673e-02, 9.88151733e-01],\n",
       "       [9.99839680e-01, 1.60320255e-04],\n",
       "       [1.15662885e-01, 8.84337115e-01],\n",
       "       [8.13232655e-01, 1.86767345e-01],\n",
       "       [9.96959352e-01, 3.04064824e-03],\n",
       "       [7.99128880e-06, 9.99992009e-01],\n",
       "       [9.31296160e-01, 6.87038396e-02],\n",
       "       [9.49187469e-01, 5.08125315e-02],\n",
       "       [2.59265239e-02, 9.74073476e-01],\n",
       "       [2.14825374e-03, 9.97851746e-01],\n",
       "       [9.00089872e-01, 9.99101276e-02],\n",
       "       [1.16396340e-03, 9.98836037e-01],\n",
       "       [1.02740042e-04, 9.99897260e-01],\n",
       "       [8.70919393e-01, 1.29080607e-01],\n",
       "       [9.11437786e-01, 8.85622136e-02],\n",
       "       [1.79898036e-01, 8.20101964e-01],\n",
       "       [2.68993814e-04, 9.99731006e-01],\n",
       "       [9.53743488e-01, 4.62565120e-02]])"
      ]
     },
     "execution_count": 15,
     "metadata": {},
     "output_type": "execute_result"
    }
   ],
   "source": [
    "train.predict_proba(x_test)"
   ]
  },
  {
   "cell_type": "code",
   "execution_count": 16,
   "id": "6f3669bb",
   "metadata": {},
   "outputs": [
    {
     "data": {
      "text/plain": [
       "array([[ 8,  0],\n",
       "       [ 1, 11]], dtype=int64)"
      ]
     },
     "execution_count": 16,
     "metadata": {},
     "output_type": "execute_result"
    }
   ],
   "source": [
    "####### for every classification we use confusion matrix\n",
    "cf = confusion_matrix(y_test,pred,labels = train.classes_)\n",
    "cf"
   ]
  },
  {
   "cell_type": "code",
   "execution_count": 17,
   "id": "3b691479",
   "metadata": {},
   "outputs": [
    {
     "data": {
      "text/plain": [
       "0.85"
      ]
     },
     "execution_count": 17,
     "metadata": {},
     "output_type": "execute_result"
    }
   ],
   "source": [
    "17/(5+1+2+12)"
   ]
  },
  {
   "cell_type": "code",
   "execution_count": 18,
   "id": "9e730d08",
   "metadata": {},
   "outputs": [
    {
     "name": "stdout",
     "output_type": "stream",
     "text": [
      "Actual -  [1, 1, 1, 0, 1, 1, 0, 1, 0, 0, 1, 1, 0, 1, 1, 0, 0, 1, 1, 0]\n",
      "Predict -  [1, 1, 1, 0, 1, 0, 0, 1, 0, 0, 1, 1, 0, 1, 1, 0, 0, 1, 1, 0]\n"
     ]
    }
   ],
   "source": [
    "print(\"Actual - \",list(y_test))\n",
    "print(\"Predict - \",list(pred))"
   ]
  },
  {
   "cell_type": "code",
   "execution_count": 19,
   "id": "72a97ea8",
   "metadata": {},
   "outputs": [],
   "source": [
    "###### Where Actually they have passed but modelpredicted as Failed\n",
    "###### Where Actually the have failed but model predicted as passed \n",
    "Tp =12\n",
    "Tn = 5\n",
    "Fp = 2\n",
    "Fn = 1"
   ]
  },
  {
   "cell_type": "code",
   "execution_count": null,
   "id": "726377f1",
   "metadata": {},
   "outputs": [],
   "source": []
  },
  {
   "cell_type": "code",
   "execution_count": null,
   "id": "0c17949d",
   "metadata": {},
   "outputs": [],
   "source": []
  }
 ],
 "metadata": {
  "kernelspec": {
   "display_name": "Python 3 (ipykernel)",
   "language": "python",
   "name": "python3"
  },
  "language_info": {
   "codemirror_mode": {
    "name": "ipython",
    "version": 3
   },
   "file_extension": ".py",
   "mimetype": "text/x-python",
   "name": "python",
   "nbconvert_exporter": "python",
   "pygments_lexer": "ipython3",
   "version": "3.11.4"
  }
 },
 "nbformat": 4,
 "nbformat_minor": 5
}
